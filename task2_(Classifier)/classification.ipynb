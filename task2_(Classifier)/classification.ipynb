{
 "cells": [
  {
   "cell_type": "code",
   "execution_count": 3,
   "outputs": [],
   "source": [
    "import numpy as np\n",
    "import pandas as pd\n",
    "from NeuronHandler import Neuron"
   ],
   "metadata": {
    "collapsed": false
   }
  },
  {
   "cell_type": "markdown",
   "source": [
    "### Задание 1\n",
    "С помощью функции ReLU разделить данные XOR\n",
    "\n",
    "***Решением будет:***\n",
    "Ответ функции ReLU ==> 0, если это (1, 1)/(0, 0); и 1, если это (0, 1)/(1, 0)\n",
    "(0, 0) -> любые веса;\n",
    "(1, 1) -> только отрицательные\n",
    "(0, 1) -> только положительные\n",
    "(1, 0) -> только положительные"
   ],
   "metadata": {
    "collapsed": false
   }
  },
  {
   "cell_type": "code",
   "execution_count": 8,
   "metadata": {
    "collapsed": true
   },
   "outputs": [],
   "source": [
    "ns = [Neuron(i) for i in range(4)]\n",
    "rate = 0.1\n",
    "\n",
    "xs = pd.DataFrame([(0, 0), (1, 1), (1, 0), (0, 1)])\n",
    "xs_labels = pd.Series([0, 0, 1, 1])\n",
    "ws = pd.DataFrame([[np.random.uniform(0, 1) for i in range(len(ns))], [np.random.uniform(0, 1) for i in range(len(ns))]]).T\n",
    "\n",
    "ws.iloc[1] = ws.iloc[1] * (-1)"
   ]
  },
  {
   "cell_type": "code",
   "execution_count": 9,
   "outputs": [
    {
     "data": {
      "text/plain": "          0         1\n0  0.046591  0.351859\n1 -0.058529 -0.799853\n2  0.022553  0.207020\n3  0.410978  0.915319",
      "text/html": "<div>\n<style scoped>\n    .dataframe tbody tr th:only-of-type {\n        vertical-align: middle;\n    }\n\n    .dataframe tbody tr th {\n        vertical-align: top;\n    }\n\n    .dataframe thead th {\n        text-align: right;\n    }\n</style>\n<table border=\"1\" class=\"dataframe\">\n  <thead>\n    <tr style=\"text-align: right;\">\n      <th></th>\n      <th>0</th>\n      <th>1</th>\n    </tr>\n  </thead>\n  <tbody>\n    <tr>\n      <th>0</th>\n      <td>0.046591</td>\n      <td>0.351859</td>\n    </tr>\n    <tr>\n      <th>1</th>\n      <td>-0.058529</td>\n      <td>-0.799853</td>\n    </tr>\n    <tr>\n      <th>2</th>\n      <td>0.022553</td>\n      <td>0.207020</td>\n    </tr>\n    <tr>\n      <th>3</th>\n      <td>0.410978</td>\n      <td>0.915319</td>\n    </tr>\n  </tbody>\n</table>\n</div>"
     },
     "execution_count": 9,
     "metadata": {},
     "output_type": "execute_result"
    }
   ],
   "source": [
    "ws"
   ],
   "metadata": {
    "collapsed": false
   }
  },
  {
   "cell_type": "code",
   "execution_count": 10,
   "outputs": [
    {
     "data": {
      "text/plain": "   0  1\n0  0  0\n1  1  1\n2  1  0\n3  0  1",
      "text/html": "<div>\n<style scoped>\n    .dataframe tbody tr th:only-of-type {\n        vertical-align: middle;\n    }\n\n    .dataframe tbody tr th {\n        vertical-align: top;\n    }\n\n    .dataframe thead th {\n        text-align: right;\n    }\n</style>\n<table border=\"1\" class=\"dataframe\">\n  <thead>\n    <tr style=\"text-align: right;\">\n      <th></th>\n      <th>0</th>\n      <th>1</th>\n    </tr>\n  </thead>\n  <tbody>\n    <tr>\n      <th>0</th>\n      <td>0</td>\n      <td>0</td>\n    </tr>\n    <tr>\n      <th>1</th>\n      <td>1</td>\n      <td>1</td>\n    </tr>\n    <tr>\n      <th>2</th>\n      <td>1</td>\n      <td>0</td>\n    </tr>\n    <tr>\n      <th>3</th>\n      <td>0</td>\n      <td>1</td>\n    </tr>\n  </tbody>\n</table>\n</div>"
     },
     "execution_count": 10,
     "metadata": {},
     "output_type": "execute_result"
    }
   ],
   "source": [
    "xs"
   ],
   "metadata": {
    "collapsed": false
   }
  },
  {
   "cell_type": "code",
   "execution_count": 42,
   "outputs": [
    {
     "name": "stdout",
     "output_type": "stream",
     "text": [
      "[0, 0, 0.022553108789436394, 0.9153185654640251]\n",
      "[0, 0, 1, 1] [0 0 1 1]\n"
     ]
    }
   ],
   "source": [
    "data = []\n",
    "for i in range(xs.index.size):  # iter for samples\n",
    "    data.append(ns[i].relu(xs, ws, i))\n",
    "\n",
    "print(data)\n",
    "for i in range(len(data)):\n",
    "    if data[i] > 0:\n",
    "        data[i] = 1\n",
    "\n",
    "print(data, xs_labels.values)"
   ],
   "metadata": {
    "collapsed": false
   }
  },
  {
   "cell_type": "markdown",
   "source": [
    "### Задание 2\n",
    "Даны двумерные данные, точка х1 и х2, помеченные как x1 > x2 (Positive class), x1 < x2 (Negative class).\n",
    "\n",
    "**ПУНКТ -- А**\n",
    "1) Создать 20 тренировочных данных в положительном квадранте единичного квадрата\n",
    "2) Написать алгоритм персептрона классифицирующий эти данные и обучить его на тренировочной выборке\n",
    "3) Сгенерировать 1000 тест-данных\n",
    "4) Получить данные статистики об этом алгоритме\n",
    "\n",
    "**ПУНКТ -- Б**\n",
    "1) Заменить нейрон на модель Адалайн\n",
    "2) Провести аналогичные подсчеты статистики"
   ],
   "metadata": {
    "collapsed": false
   }
  },
  {
   "cell_type": "code",
   "execution_count": null,
   "outputs": [],
   "source": [],
   "metadata": {
    "collapsed": false
   }
  }
 ],
 "metadata": {
  "kernelspec": {
   "display_name": "Python 3",
   "language": "python",
   "name": "python3"
  },
  "language_info": {
   "codemirror_mode": {
    "name": "ipython",
    "version": 2
   },
   "file_extension": ".py",
   "mimetype": "text/x-python",
   "name": "python",
   "nbconvert_exporter": "python",
   "pygments_lexer": "ipython2",
   "version": "2.7.6"
  }
 },
 "nbformat": 4,
 "nbformat_minor": 0
}
