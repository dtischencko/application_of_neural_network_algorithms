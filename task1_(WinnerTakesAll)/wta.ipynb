{
 "cells": [
  {
   "cell_type": "code",
   "execution_count": 6,
   "metadata": {
    "collapsed": true
   },
   "outputs": [],
   "source": [
    "import numpy as np\n",
    "import pandas as pd\n",
    "from pandas import Series, DataFrame\n",
    "from NeuronWTA import Neuron\n",
    "\n",
    "\n",
    "rate = 0.5\n",
    "n = 320\n",
    "ns = list((Neuron(0), Neuron(1), Neuron(2), Neuron(3)))\n",
    "xs = DataFrame([(0.97, 0.20), (1.00, 0.00), (-0.72, 0.70), (-0.67, 0.74), (-0.80, 0.60), (0.00, -1.00), (0.20, -0.97), (-0.30, -0.95)])\n",
    "ws = DataFrame({ 0: [np.random.randn(), np.random.randn(), np.random.randn(), np.random.randn()],\n",
    "                 1: [np.random.randn(), np.random.randn(), np.random.randn(), np.random.randn()]})"
   ]
  },
  {
   "cell_type": "code",
   "execution_count": 7,
   "outputs": [
    {
     "data": {
      "text/plain": "      0     1\n0  0.97  0.20\n1  1.00  0.00\n2 -0.72  0.70\n3 -0.67  0.74\n4 -0.80  0.60\n5  0.00 -1.00\n6  0.20 -0.97\n7 -0.30 -0.95",
      "text/html": "<div>\n<style scoped>\n    .dataframe tbody tr th:only-of-type {\n        vertical-align: middle;\n    }\n\n    .dataframe tbody tr th {\n        vertical-align: top;\n    }\n\n    .dataframe thead th {\n        text-align: right;\n    }\n</style>\n<table border=\"1\" class=\"dataframe\">\n  <thead>\n    <tr style=\"text-align: right;\">\n      <th></th>\n      <th>0</th>\n      <th>1</th>\n    </tr>\n  </thead>\n  <tbody>\n    <tr>\n      <th>0</th>\n      <td>0.97</td>\n      <td>0.20</td>\n    </tr>\n    <tr>\n      <th>1</th>\n      <td>1.00</td>\n      <td>0.00</td>\n    </tr>\n    <tr>\n      <th>2</th>\n      <td>-0.72</td>\n      <td>0.70</td>\n    </tr>\n    <tr>\n      <th>3</th>\n      <td>-0.67</td>\n      <td>0.74</td>\n    </tr>\n    <tr>\n      <th>4</th>\n      <td>-0.80</td>\n      <td>0.60</td>\n    </tr>\n    <tr>\n      <th>5</th>\n      <td>0.00</td>\n      <td>-1.00</td>\n    </tr>\n    <tr>\n      <th>6</th>\n      <td>0.20</td>\n      <td>-0.97</td>\n    </tr>\n    <tr>\n      <th>7</th>\n      <td>-0.30</td>\n      <td>-0.95</td>\n    </tr>\n  </tbody>\n</table>\n</div>"
     },
     "execution_count": 7,
     "metadata": {},
     "output_type": "execute_result"
    }
   ],
   "source": [
    "xs"
   ],
   "metadata": {
    "collapsed": false
   }
  },
  {
   "cell_type": "code",
   "execution_count": 8,
   "outputs": [
    {
     "data": {
      "text/plain": "          0         1\n0 -1.048685 -0.139044\n1 -0.086768  0.296801\n2 -1.466174 -0.110151\n3 -1.373074 -0.929775",
      "text/html": "<div>\n<style scoped>\n    .dataframe tbody tr th:only-of-type {\n        vertical-align: middle;\n    }\n\n    .dataframe tbody tr th {\n        vertical-align: top;\n    }\n\n    .dataframe thead th {\n        text-align: right;\n    }\n</style>\n<table border=\"1\" class=\"dataframe\">\n  <thead>\n    <tr style=\"text-align: right;\">\n      <th></th>\n      <th>0</th>\n      <th>1</th>\n    </tr>\n  </thead>\n  <tbody>\n    <tr>\n      <th>0</th>\n      <td>-1.048685</td>\n      <td>-0.139044</td>\n    </tr>\n    <tr>\n      <th>1</th>\n      <td>-0.086768</td>\n      <td>0.296801</td>\n    </tr>\n    <tr>\n      <th>2</th>\n      <td>-1.466174</td>\n      <td>-0.110151</td>\n    </tr>\n    <tr>\n      <th>3</th>\n      <td>-1.373074</td>\n      <td>-0.929775</td>\n    </tr>\n  </tbody>\n</table>\n</div>"
     },
     "execution_count": 8,
     "metadata": {},
     "output_type": "execute_result"
    }
   ],
   "source": [
    "ws"
   ],
   "metadata": {
    "collapsed": false
   }
  },
  {
   "cell_type": "code",
   "execution_count": 9,
   "outputs": [],
   "source": [
    "for i in range(n):  # iter of train set\n",
    "    for j in range(8):  # iter of train sample\n",
    "        d = []  # last indu fields\n",
    "        for k in range(len(ns)):  # iter of neurons\n",
    "            ns[k].set_indu_method(xs, ws, j)\n",
    "            d.append(ns[k].last_indu)  # find indu_field for neurons\n",
    "        data = Series(d)\n",
    "        idx = data.idxmax()  # index of max element (Winner Neuron)\n",
    "        new_w1 = ws.iloc[idx][0] + rate * (xs.iloc[j][0] - ws.iloc[idx][0])\n",
    "        new_w2 = ws.iloc[idx][1] + rate * (xs.iloc[j][1] - ws.iloc[idx][1])\n",
    "        ws.iloc[idx][0] = new_w1\n",
    "        ws.iloc[idx][1] = new_w2"
   ],
   "metadata": {
    "collapsed": false
   }
  },
  {
   "cell_type": "code",
   "execution_count": 10,
   "outputs": [
    {
     "data": {
      "text/plain": "          0         1\n0 -1.048685 -0.139044\n1  0.990000  0.066667\n2 -0.751429  0.654286\n3 -0.114286 -0.962857",
      "text/html": "<div>\n<style scoped>\n    .dataframe tbody tr th:only-of-type {\n        vertical-align: middle;\n    }\n\n    .dataframe tbody tr th {\n        vertical-align: top;\n    }\n\n    .dataframe thead th {\n        text-align: right;\n    }\n</style>\n<table border=\"1\" class=\"dataframe\">\n  <thead>\n    <tr style=\"text-align: right;\">\n      <th></th>\n      <th>0</th>\n      <th>1</th>\n    </tr>\n  </thead>\n  <tbody>\n    <tr>\n      <th>0</th>\n      <td>-1.048685</td>\n      <td>-0.139044</td>\n    </tr>\n    <tr>\n      <th>1</th>\n      <td>0.990000</td>\n      <td>0.066667</td>\n    </tr>\n    <tr>\n      <th>2</th>\n      <td>-0.751429</td>\n      <td>0.654286</td>\n    </tr>\n    <tr>\n      <th>3</th>\n      <td>-0.114286</td>\n      <td>-0.962857</td>\n    </tr>\n  </tbody>\n</table>\n</div>"
     },
     "execution_count": 10,
     "metadata": {},
     "output_type": "execute_result"
    }
   ],
   "source": [
    "ws"
   ],
   "metadata": {
    "collapsed": false
   }
  },
  {
   "cell_type": "code",
   "execution_count": null,
   "outputs": [],
   "source": [],
   "metadata": {
    "collapsed": false
   }
  }
 ],
 "metadata": {
  "kernelspec": {
   "display_name": "Python 3",
   "language": "python",
   "name": "python3"
  },
  "language_info": {
   "codemirror_mode": {
    "name": "ipython",
    "version": 2
   },
   "file_extension": ".py",
   "mimetype": "text/x-python",
   "name": "python",
   "nbconvert_exporter": "python",
   "pygments_lexer": "ipython2",
   "version": "2.7.6"
  }
 },
 "nbformat": 4,
 "nbformat_minor": 0
}
