{
 "cells": [
  {
   "cell_type": "markdown",
   "source": [
    "### Задание 1\n",
    "Построить персептрон с простейшим алгоритмом конкурентного обучения"
   ],
   "metadata": {
    "collapsed": false
   }
  },
  {
   "cell_type": "code",
   "execution_count": 139,
   "outputs": [],
   "source": [
    "import numpy as np\n",
    "from pandas import Series, DataFrame\n",
    "from NeuronWTA import Neuron\n",
    "import math"
   ],
   "metadata": {
    "collapsed": false
   }
  },
  {
   "cell_type": "code",
   "execution_count": 140,
   "metadata": {
    "collapsed": true
   },
   "outputs": [],
   "source": [
    "rate = 0.5\n",
    "n = 320\n",
    "ns = list((Neuron(0), Neuron(1), Neuron(2), Neuron(3)))\n",
    "xs = DataFrame([(0.97, 0.20), (1.00, 0.00), (-0.72, 0.70), (-0.67, 0.74), (-0.80, 0.60), (0.00, -1.00), (0.20, -0.97), (-0.30, -0.95)])\n",
    "ws = DataFrame([[np.random.randn() for i in range(ns.__len__())], [np.random.randn() for i in range(ns.__len__())]]).T\n",
    "save_ws = ws.copy()"
   ]
  },
  {
   "cell_type": "code",
   "execution_count": 141,
   "outputs": [
    {
     "data": {
      "text/plain": "      0     1\n0  0.97  0.20\n1  1.00  0.00\n2 -0.72  0.70\n3 -0.67  0.74\n4 -0.80  0.60\n5  0.00 -1.00\n6  0.20 -0.97\n7 -0.30 -0.95",
      "text/html": "<div>\n<style scoped>\n    .dataframe tbody tr th:only-of-type {\n        vertical-align: middle;\n    }\n\n    .dataframe tbody tr th {\n        vertical-align: top;\n    }\n\n    .dataframe thead th {\n        text-align: right;\n    }\n</style>\n<table border=\"1\" class=\"dataframe\">\n  <thead>\n    <tr style=\"text-align: right;\">\n      <th></th>\n      <th>0</th>\n      <th>1</th>\n    </tr>\n  </thead>\n  <tbody>\n    <tr>\n      <th>0</th>\n      <td>0.97</td>\n      <td>0.20</td>\n    </tr>\n    <tr>\n      <th>1</th>\n      <td>1.00</td>\n      <td>0.00</td>\n    </tr>\n    <tr>\n      <th>2</th>\n      <td>-0.72</td>\n      <td>0.70</td>\n    </tr>\n    <tr>\n      <th>3</th>\n      <td>-0.67</td>\n      <td>0.74</td>\n    </tr>\n    <tr>\n      <th>4</th>\n      <td>-0.80</td>\n      <td>0.60</td>\n    </tr>\n    <tr>\n      <th>5</th>\n      <td>0.00</td>\n      <td>-1.00</td>\n    </tr>\n    <tr>\n      <th>6</th>\n      <td>0.20</td>\n      <td>-0.97</td>\n    </tr>\n    <tr>\n      <th>7</th>\n      <td>-0.30</td>\n      <td>-0.95</td>\n    </tr>\n  </tbody>\n</table>\n</div>"
     },
     "execution_count": 141,
     "metadata": {},
     "output_type": "execute_result"
    }
   ],
   "source": [
    "xs"
   ],
   "metadata": {
    "collapsed": false
   }
  },
  {
   "cell_type": "code",
   "execution_count": 142,
   "outputs": [
    {
     "data": {
      "text/plain": "          0         1\n0  0.432448 -1.243734\n1  1.528078  0.145569\n2  0.456875 -1.468133\n3 -0.297777 -0.091792",
      "text/html": "<div>\n<style scoped>\n    .dataframe tbody tr th:only-of-type {\n        vertical-align: middle;\n    }\n\n    .dataframe tbody tr th {\n        vertical-align: top;\n    }\n\n    .dataframe thead th {\n        text-align: right;\n    }\n</style>\n<table border=\"1\" class=\"dataframe\">\n  <thead>\n    <tr style=\"text-align: right;\">\n      <th></th>\n      <th>0</th>\n      <th>1</th>\n    </tr>\n  </thead>\n  <tbody>\n    <tr>\n      <th>0</th>\n      <td>0.432448</td>\n      <td>-1.243734</td>\n    </tr>\n    <tr>\n      <th>1</th>\n      <td>1.528078</td>\n      <td>0.145569</td>\n    </tr>\n    <tr>\n      <th>2</th>\n      <td>0.456875</td>\n      <td>-1.468133</td>\n    </tr>\n    <tr>\n      <th>3</th>\n      <td>-0.297777</td>\n      <td>-0.091792</td>\n    </tr>\n  </tbody>\n</table>\n</div>"
     },
     "execution_count": 142,
     "metadata": {},
     "output_type": "execute_result"
    }
   ],
   "source": [
    "ws"
   ],
   "metadata": {
    "collapsed": false
   }
  },
  {
   "cell_type": "code",
   "execution_count": 143,
   "outputs": [],
   "source": [
    "for i in range(n):  # iter of train set\n",
    "    for j in range(8):  # iter of train sample\n",
    "        d = []  # last indu fields\n",
    "        for k in range(len(ns)):  # iter of neurons\n",
    "            ns[k].set_indu_method(xs, ws, j)\n",
    "            d.append(ns[k].last_indu)  # find indu_field for neurons\n",
    "        data = Series(d)\n",
    "        idx = data.idxmax()  # index of max element (Winner Neuron)\n",
    "        new_w1 = ws.iloc[idx][0] + rate * (xs.iloc[j][0] - ws.iloc[idx][0])\n",
    "        new_w2 = ws.iloc[idx][1] + rate * (xs.iloc[j][1] - ws.iloc[idx][1])\n",
    "        ws.iloc[idx][0] = new_w1\n",
    "        ws.iloc[idx][1] = new_w2"
   ],
   "metadata": {
    "collapsed": false
   }
  },
  {
   "cell_type": "code",
   "execution_count": 144,
   "outputs": [
    {
     "data": {
      "text/plain": "          0         1\n0  0.133333 -0.980000\n1  0.990000  0.066667\n2 -0.300000 -0.950000\n3 -0.751429  0.654286",
      "text/html": "<div>\n<style scoped>\n    .dataframe tbody tr th:only-of-type {\n        vertical-align: middle;\n    }\n\n    .dataframe tbody tr th {\n        vertical-align: top;\n    }\n\n    .dataframe thead th {\n        text-align: right;\n    }\n</style>\n<table border=\"1\" class=\"dataframe\">\n  <thead>\n    <tr style=\"text-align: right;\">\n      <th></th>\n      <th>0</th>\n      <th>1</th>\n    </tr>\n  </thead>\n  <tbody>\n    <tr>\n      <th>0</th>\n      <td>0.133333</td>\n      <td>-0.980000</td>\n    </tr>\n    <tr>\n      <th>1</th>\n      <td>0.990000</td>\n      <td>0.066667</td>\n    </tr>\n    <tr>\n      <th>2</th>\n      <td>-0.300000</td>\n      <td>-0.950000</td>\n    </tr>\n    <tr>\n      <th>3</th>\n      <td>-0.751429</td>\n      <td>0.654286</td>\n    </tr>\n  </tbody>\n</table>\n</div>"
     },
     "execution_count": 144,
     "metadata": {},
     "output_type": "execute_result"
    }
   ],
   "source": [
    "ws"
   ],
   "metadata": {
    "collapsed": false
   }
  },
  {
   "cell_type": "markdown",
   "source": [
    "### Задание 2\n",
    "Каждый нейрон может обучаться не более 10 раз подряд, после чего он становится в режим ожидания\n",
    "на следующие 10 итераций"
   ],
   "metadata": {
    "collapsed": false
   }
  },
  {
   "cell_type": "code",
   "execution_count": 145,
   "outputs": [
    {
     "data": {
      "text/plain": "          0         1\n0  0.432448 -1.243734\n1  1.528078  0.145569\n2  0.456875 -1.468133\n3 -0.297777 -0.091792",
      "text/html": "<div>\n<style scoped>\n    .dataframe tbody tr th:only-of-type {\n        vertical-align: middle;\n    }\n\n    .dataframe tbody tr th {\n        vertical-align: top;\n    }\n\n    .dataframe thead th {\n        text-align: right;\n    }\n</style>\n<table border=\"1\" class=\"dataframe\">\n  <thead>\n    <tr style=\"text-align: right;\">\n      <th></th>\n      <th>0</th>\n      <th>1</th>\n    </tr>\n  </thead>\n  <tbody>\n    <tr>\n      <th>0</th>\n      <td>0.432448</td>\n      <td>-1.243734</td>\n    </tr>\n    <tr>\n      <th>1</th>\n      <td>1.528078</td>\n      <td>0.145569</td>\n    </tr>\n    <tr>\n      <th>2</th>\n      <td>0.456875</td>\n      <td>-1.468133</td>\n    </tr>\n    <tr>\n      <th>3</th>\n      <td>-0.297777</td>\n      <td>-0.091792</td>\n    </tr>\n  </tbody>\n</table>\n</div>"
     },
     "execution_count": 145,
     "metadata": {},
     "output_type": "execute_result"
    }
   ],
   "source": [
    "save_ws"
   ],
   "metadata": {
    "collapsed": false
   }
  },
  {
   "cell_type": "code",
   "execution_count": 146,
   "outputs": [],
   "source": [
    "for i in range(n):  # iter of train set\n",
    "    for j in range(8):  # iter of train sample\n",
    "        d = []  # last indu fields\n",
    "        for k in range(len(ns)):  # iter of neurons\n",
    "            ns[k].set_indu_method(xs, save_ws, j)\n",
    "            if ns[k].canLearning:\n",
    "                d.append(ns[k].last_indu)  # find indu_field for neurons\n",
    "            else:\n",
    "                d.append(-9999)  # if Neuron can`t learn then (indu = -9999)\n",
    "        data = Series(d)\n",
    "        idx = data.idxmax()  # index of max element (Winner Neuron)\n",
    "        if ns[idx].canLearning:\n",
    "            ns[idx].add_count_learn()\n",
    "            new_w1 = save_ws.iloc[idx][0] + rate * (xs.iloc[j][0] - save_ws.iloc[idx][0])\n",
    "            new_w2 = save_ws.iloc[idx][1] + rate * (xs.iloc[j][1] - save_ws.iloc[idx][1])\n",
    "            save_ws.iloc[idx][0] = new_w1\n",
    "            save_ws.iloc[idx][1] = new_w2\n",
    "        else:\n",
    "            ns[idx].take_delay()"
   ],
   "metadata": {
    "collapsed": false
   }
  },
  {
   "cell_type": "code",
   "execution_count": 147,
   "outputs": [
    {
     "data": {
      "text/plain": "          0         1\n0 -0.174703 -0.775599\n1  0.980263  0.133372\n2 -0.694875  0.682184\n3 -0.702636  0.708207",
      "text/html": "<div>\n<style scoped>\n    .dataframe tbody tr th:only-of-type {\n        vertical-align: middle;\n    }\n\n    .dataframe tbody tr th {\n        vertical-align: top;\n    }\n\n    .dataframe thead th {\n        text-align: right;\n    }\n</style>\n<table border=\"1\" class=\"dataframe\">\n  <thead>\n    <tr style=\"text-align: right;\">\n      <th></th>\n      <th>0</th>\n      <th>1</th>\n    </tr>\n  </thead>\n  <tbody>\n    <tr>\n      <th>0</th>\n      <td>-0.174703</td>\n      <td>-0.775599</td>\n    </tr>\n    <tr>\n      <th>1</th>\n      <td>0.980263</td>\n      <td>0.133372</td>\n    </tr>\n    <tr>\n      <th>2</th>\n      <td>-0.694875</td>\n      <td>0.682184</td>\n    </tr>\n    <tr>\n      <th>3</th>\n      <td>-0.702636</td>\n      <td>0.708207</td>\n    </tr>\n  </tbody>\n</table>\n</div>"
     },
     "execution_count": 147,
     "metadata": {},
     "output_type": "execute_result"
    }
   ],
   "source": [
    "save_ws"
   ],
   "metadata": {
    "collapsed": false
   }
  },
  {
   "cell_type": "code",
   "execution_count": 148,
   "outputs": [
    {
     "data": {
      "text/plain": "          0         1\n0  0.133333 -0.980000\n1  0.990000  0.066667\n2 -0.300000 -0.950000\n3 -0.751429  0.654286",
      "text/html": "<div>\n<style scoped>\n    .dataframe tbody tr th:only-of-type {\n        vertical-align: middle;\n    }\n\n    .dataframe tbody tr th {\n        vertical-align: top;\n    }\n\n    .dataframe thead th {\n        text-align: right;\n    }\n</style>\n<table border=\"1\" class=\"dataframe\">\n  <thead>\n    <tr style=\"text-align: right;\">\n      <th></th>\n      <th>0</th>\n      <th>1</th>\n    </tr>\n  </thead>\n  <tbody>\n    <tr>\n      <th>0</th>\n      <td>0.133333</td>\n      <td>-0.980000</td>\n    </tr>\n    <tr>\n      <th>1</th>\n      <td>0.990000</td>\n      <td>0.066667</td>\n    </tr>\n    <tr>\n      <th>2</th>\n      <td>-0.300000</td>\n      <td>-0.950000</td>\n    </tr>\n    <tr>\n      <th>3</th>\n      <td>-0.751429</td>\n      <td>0.654286</td>\n    </tr>\n  </tbody>\n</table>\n</div>"
     },
     "execution_count": 148,
     "metadata": {},
     "output_type": "execute_result"
    }
   ],
   "source": [
    "ws"
   ],
   "metadata": {
    "collapsed": false
   }
  },
  {
   "cell_type": "markdown",
   "source": [
    "### Задание 3\n",
    "Построить стандартный персептрон Хебба с двумя нейронами"
   ],
   "metadata": {
    "collapsed": false
   }
  },
  {
   "cell_type": "code",
   "execution_count": 152,
   "outputs": [],
   "source": [
    "def sigmoid(indu):\n",
    "    return math.tanh(indu)\n",
    "\n",
    "rate = 0.5\n",
    "n = 320\n",
    "ns = list((Neuron(0), Neuron(1)))\n",
    "xs = DataFrame([(0.97, 0.20), (1.00, 0.00), (-0.72, 0.70), (-0.67, 0.74), (-0.80, 0.60), (0.00, -1.00), (0.20, -0.97), (-0.30, -0.95)])\n",
    "ws = DataFrame([[np.random.randn() for i in range(ns.__len__())], [np.random.randn() for i in range(ns.__len__())]]).T"
   ],
   "metadata": {
    "collapsed": false
   }
  },
  {
   "cell_type": "code",
   "execution_count": 153,
   "outputs": [
    {
     "data": {
      "text/plain": "          0         1\n0  0.112635 -0.478236\n1  2.010290  0.104727",
      "text/html": "<div>\n<style scoped>\n    .dataframe tbody tr th:only-of-type {\n        vertical-align: middle;\n    }\n\n    .dataframe tbody tr th {\n        vertical-align: top;\n    }\n\n    .dataframe thead th {\n        text-align: right;\n    }\n</style>\n<table border=\"1\" class=\"dataframe\">\n  <thead>\n    <tr style=\"text-align: right;\">\n      <th></th>\n      <th>0</th>\n      <th>1</th>\n    </tr>\n  </thead>\n  <tbody>\n    <tr>\n      <th>0</th>\n      <td>0.112635</td>\n      <td>-0.478236</td>\n    </tr>\n    <tr>\n      <th>1</th>\n      <td>2.010290</td>\n      <td>0.104727</td>\n    </tr>\n  </tbody>\n</table>\n</div>"
     },
     "execution_count": 153,
     "metadata": {},
     "output_type": "execute_result"
    }
   ],
   "source": [
    "ws"
   ],
   "metadata": {
    "collapsed": false
   }
  },
  {
   "cell_type": "code",
   "execution_count": 154,
   "outputs": [],
   "source": [
    "for i in range(n):  # iter of train set\n",
    "    for j in range(8):  # iter of train sample\n",
    "        d = []  # last indu fields\n",
    "        for k in range(len(ns)):  # iter of neurons\n",
    "            ns[k].set_indu_method(xs, ws, j, is_sigmoid=True)\n",
    "            d.append(ns[k].last_indu)  # find indu_field for neurons\n",
    "        data = Series(d)\n",
    "        idx = data.idxmax()  # index of max element (Winner Neuron)\n",
    "        new_w1 = ws.iloc[idx][0] + rate * xs.iloc[j][0] * data[idx]\n",
    "        new_w2 = ws.iloc[idx][1] + rate * xs.iloc[j][1] * data[idx]\n",
    "        ws.iloc[idx][0] = new_w1\n",
    "        ws.iloc[idx][1] = new_w2"
   ],
   "metadata": {
    "collapsed": false
   }
  },
  {
   "cell_type": "code",
   "execution_count": 155,
   "outputs": [
    {
     "data": {
      "text/plain": "            0           1\n0  610.877375 -757.945229\n1   40.304826   -3.333317",
      "text/html": "<div>\n<style scoped>\n    .dataframe tbody tr th:only-of-type {\n        vertical-align: middle;\n    }\n\n    .dataframe tbody tr th {\n        vertical-align: top;\n    }\n\n    .dataframe thead th {\n        text-align: right;\n    }\n</style>\n<table border=\"1\" class=\"dataframe\">\n  <thead>\n    <tr style=\"text-align: right;\">\n      <th></th>\n      <th>0</th>\n      <th>1</th>\n    </tr>\n  </thead>\n  <tbody>\n    <tr>\n      <th>0</th>\n      <td>610.877375</td>\n      <td>-757.945229</td>\n    </tr>\n    <tr>\n      <th>1</th>\n      <td>40.304826</td>\n      <td>-3.333317</td>\n    </tr>\n  </tbody>\n</table>\n</div>"
     },
     "execution_count": 155,
     "metadata": {},
     "output_type": "execute_result"
    }
   ],
   "source": [
    "ws"
   ],
   "metadata": {
    "collapsed": false
   }
  }
 ],
 "metadata": {
  "kernelspec": {
   "display_name": "Python 3",
   "language": "python",
   "name": "python3"
  },
  "language_info": {
   "codemirror_mode": {
    "name": "ipython",
    "version": 2
   },
   "file_extension": ".py",
   "mimetype": "text/x-python",
   "name": "python",
   "nbconvert_exporter": "python",
   "pygments_lexer": "ipython2",
   "version": "2.7.6"
  }
 },
 "nbformat": 4,
 "nbformat_minor": 0
}
