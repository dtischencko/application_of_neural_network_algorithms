{
 "cells": [
  {
   "cell_type": "code",
   "execution_count": 88,
   "metadata": {
    "collapsed": true
   },
   "outputs": [],
   "source": [
    "import numpy as np\n",
    "import pandas as pd\n",
    "import matplotlib as plt\n",
    "from pandas import Series, DataFrame\n",
    "from NeuronWTA import Neuron\n",
    "\n",
    "\n",
    "rate = 0.5\n",
    "n = 320\n",
    "ns = list((Neuron(0), Neuron(1), Neuron(2), Neuron(3)))\n",
    "xs = DataFrame([(0.97, 0.20), (1.00, 0.00), (-0.72, 0.70), (-0.67, 0.74), (-0.80, 0.60), (0.00, -1.00), (0.20, -0.97), (-0.30, -0.95)])\n",
    "ws = DataFrame({ 0: [np.random.rand(), np.random.rand(), np.random.rand(), np.random.rand()],\n",
    "                 1: [np.random.rand(), np.random.rand(), np.random.rand(), np.random.rand()]})"
   ]
  },
  {
   "cell_type": "code",
   "execution_count": 89,
   "outputs": [
    {
     "data": {
      "text/plain": "      0     1\n0  0.97  0.20\n1  1.00  0.00\n2 -0.72  0.70\n3 -0.67  0.74\n4 -0.80  0.60\n5  0.00 -1.00\n6  0.20 -0.97\n7 -0.30 -0.95",
      "text/html": "<div>\n<style scoped>\n    .dataframe tbody tr th:only-of-type {\n        vertical-align: middle;\n    }\n\n    .dataframe tbody tr th {\n        vertical-align: top;\n    }\n\n    .dataframe thead th {\n        text-align: right;\n    }\n</style>\n<table border=\"1\" class=\"dataframe\">\n  <thead>\n    <tr style=\"text-align: right;\">\n      <th></th>\n      <th>0</th>\n      <th>1</th>\n    </tr>\n  </thead>\n  <tbody>\n    <tr>\n      <th>0</th>\n      <td>0.97</td>\n      <td>0.20</td>\n    </tr>\n    <tr>\n      <th>1</th>\n      <td>1.00</td>\n      <td>0.00</td>\n    </tr>\n    <tr>\n      <th>2</th>\n      <td>-0.72</td>\n      <td>0.70</td>\n    </tr>\n    <tr>\n      <th>3</th>\n      <td>-0.67</td>\n      <td>0.74</td>\n    </tr>\n    <tr>\n      <th>4</th>\n      <td>-0.80</td>\n      <td>0.60</td>\n    </tr>\n    <tr>\n      <th>5</th>\n      <td>0.00</td>\n      <td>-1.00</td>\n    </tr>\n    <tr>\n      <th>6</th>\n      <td>0.20</td>\n      <td>-0.97</td>\n    </tr>\n    <tr>\n      <th>7</th>\n      <td>-0.30</td>\n      <td>-0.95</td>\n    </tr>\n  </tbody>\n</table>\n</div>"
     },
     "execution_count": 89,
     "metadata": {},
     "output_type": "execute_result"
    }
   ],
   "source": [
    "xs"
   ],
   "metadata": {
    "collapsed": false
   }
  },
  {
   "cell_type": "code",
   "execution_count": 90,
   "outputs": [
    {
     "data": {
      "text/plain": "          0         1\n0  0.071086  0.719219\n1  0.172404  0.682468\n2  0.899372  0.916588\n3  0.614334  0.015136",
      "text/html": "<div>\n<style scoped>\n    .dataframe tbody tr th:only-of-type {\n        vertical-align: middle;\n    }\n\n    .dataframe tbody tr th {\n        vertical-align: top;\n    }\n\n    .dataframe thead th {\n        text-align: right;\n    }\n</style>\n<table border=\"1\" class=\"dataframe\">\n  <thead>\n    <tr style=\"text-align: right;\">\n      <th></th>\n      <th>0</th>\n      <th>1</th>\n    </tr>\n  </thead>\n  <tbody>\n    <tr>\n      <th>0</th>\n      <td>0.071086</td>\n      <td>0.719219</td>\n    </tr>\n    <tr>\n      <th>1</th>\n      <td>0.172404</td>\n      <td>0.682468</td>\n    </tr>\n    <tr>\n      <th>2</th>\n      <td>0.899372</td>\n      <td>0.916588</td>\n    </tr>\n    <tr>\n      <th>3</th>\n      <td>0.614334</td>\n      <td>0.015136</td>\n    </tr>\n  </tbody>\n</table>\n</div>"
     },
     "execution_count": 90,
     "metadata": {},
     "output_type": "execute_result"
    }
   ],
   "source": [
    "ws"
   ],
   "metadata": {
    "collapsed": false
   }
  },
  {
   "cell_type": "code",
   "execution_count": 91,
   "outputs": [
    {
     "data": {
      "text/plain": "[<NeuronWTA.Neuron at 0x1b9557013a0>,\n <NeuronWTA.Neuron at 0x1b9557015b0>,\n <NeuronWTA.Neuron at 0x1b955701a60>,\n <NeuronWTA.Neuron at 0x1b955701970>]"
     },
     "execution_count": 91,
     "metadata": {},
     "output_type": "execute_result"
    }
   ],
   "source": [
    "ns"
   ],
   "metadata": {
    "collapsed": false
   }
  },
  {
   "cell_type": "code",
   "execution_count": 92,
   "outputs": [],
   "source": [
    "for i in range(n):  # iter of train set\n",
    "    for j in range(4):  # iter of train sample\n",
    "        data = []\n",
    "        for k in range(len(ns)):  # iter of neurons\n",
    "            ns[k].set_indu_method(xs, ws, j)  # find indu_field for neurons\n",
    "            data.append(ns[k].last_ind)\n",
    "        datas = Series(data)  # indu_fields of train\n",
    "        ind = datas.index[datas == datas.max()]  #\n",
    "        for k in range(len(ns)):  # iter of neurons\n",
    "            if ns[k].last_ind == datas.values[ind]:\n",
    "                id_ne = ns[k].id_ne  # id winner neuron\n",
    "                new_w1 = ws.iloc[id_ne][0] + rate * (1 - ws.iloc[id_ne][0])\n",
    "                new_w2 = ws.iloc[id_ne][1] + rate * (1 - ws.iloc[id_ne][1])\n",
    "                ws.iloc[id_ne][0] = new_w1\n",
    "                ws.iloc[id_ne][1] = new_w2\n",
    "            else:\n",
    "                id_ne = ns[k].id_ne  # id looser neuron\n",
    "                new_w1 = ws.iloc[id_ne][0] + rate * (0 - ws.iloc[id_ne][0])\n",
    "                new_w2 = ws.iloc[id_ne][1] + rate * (0 - ws.iloc[id_ne][1])\n",
    "                ws.iloc[id_ne][0] = new_w1\n",
    "                ws.iloc[id_ne][1] = new_w2"
   ],
   "metadata": {
    "collapsed": false
   }
  },
  {
   "cell_type": "code",
   "execution_count": 93,
   "outputs": [
    {
     "data": {
      "text/plain": "          0         1\n0  0.000916  0.000916\n1  0.014649  0.014649\n2  0.234379  0.234379\n3  0.750057  0.750057",
      "text/html": "<div>\n<style scoped>\n    .dataframe tbody tr th:only-of-type {\n        vertical-align: middle;\n    }\n\n    .dataframe tbody tr th {\n        vertical-align: top;\n    }\n\n    .dataframe thead th {\n        text-align: right;\n    }\n</style>\n<table border=\"1\" class=\"dataframe\">\n  <thead>\n    <tr style=\"text-align: right;\">\n      <th></th>\n      <th>0</th>\n      <th>1</th>\n    </tr>\n  </thead>\n  <tbody>\n    <tr>\n      <th>0</th>\n      <td>0.000916</td>\n      <td>0.000916</td>\n    </tr>\n    <tr>\n      <th>1</th>\n      <td>0.014649</td>\n      <td>0.014649</td>\n    </tr>\n    <tr>\n      <th>2</th>\n      <td>0.234379</td>\n      <td>0.234379</td>\n    </tr>\n    <tr>\n      <th>3</th>\n      <td>0.750057</td>\n      <td>0.750057</td>\n    </tr>\n  </tbody>\n</table>\n</div>"
     },
     "execution_count": 93,
     "metadata": {},
     "output_type": "execute_result"
    }
   ],
   "source": [
    "ws"
   ],
   "metadata": {
    "collapsed": false
   }
  }
 ],
 "metadata": {
  "kernelspec": {
   "display_name": "Python 3",
   "language": "python",
   "name": "python3"
  },
  "language_info": {
   "codemirror_mode": {
    "name": "ipython",
    "version": 2
   },
   "file_extension": ".py",
   "mimetype": "text/x-python",
   "name": "python",
   "nbconvert_exporter": "python",
   "pygments_lexer": "ipython2",
   "version": "2.7.6"
  }
 },
 "nbformat": 4,
 "nbformat_minor": 0
}
